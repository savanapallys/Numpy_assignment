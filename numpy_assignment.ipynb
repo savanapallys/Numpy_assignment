{
 "cells": [
  {
   "cell_type": "markdown",
   "id": "deecd8b2-f3b9-488a-9335-02b0f3959185",
   "metadata": {},
   "source": [
    "1.i.  python library is reusable code(means already written by someone so we can use without writting from scratch just \n",
    "        import and use number of times)\n",
    "   ii.its optimized format exection will take less time \n",
    "   "
   ]
  },
  {
   "cell_type": "markdown",
   "id": "95f39713-4aef-4ec4-a1a8-479e25af8b2f",
   "metadata": {},
   "source": [
    "2.list:-can store heterogenous data\n",
    "  numpy array stores homogenous data and also and we can perform numerical calculation faster than list"
   ]
  },
  {
   "cell_type": "markdown",
   "id": "5e09a22d-0194-442a-9745-e1fcfdf17a4e",
   "metadata": {},
   "source": [
    "3.shape,size fo array"
   ]
  },
  {
   "cell_type": "code",
   "execution_count": 46,
   "id": "36867611-3a0b-481b-9b9a-b19a02bf4333",
   "metadata": {},
   "outputs": [
    {
     "data": {
      "text/plain": [
       "(3, 4)"
      ]
     },
     "execution_count": 46,
     "metadata": {},
     "output_type": "execute_result"
    }
   ],
   "source": [
    "a= [[1,2,3,4],\n",
    "    [5,6,7,8],\n",
    "    [9,10,11,12]]\n",
    "import numpy as np\n",
    "arr=np.array(a)\n",
    "arr.shape\n"
   ]
  },
  {
   "cell_type": "code",
   "execution_count": 47,
   "id": "ac90b459-de24-41ea-b418-61172b509057",
   "metadata": {},
   "outputs": [
    {
     "data": {
      "text/plain": [
       "12"
      ]
     },
     "execution_count": 47,
     "metadata": {},
     "output_type": "execute_result"
    }
   ],
   "source": [
    "#3(ii)\n",
    "arr.size"
   ]
  },
  {
   "cell_type": "code",
   "execution_count": 48,
   "id": "786d3c8f-bebd-41b4-a791-03a7f9fe6ffe",
   "metadata": {},
   "outputs": [
    {
     "data": {
      "text/plain": [
       "2"
      ]
     },
     "execution_count": 48,
     "metadata": {},
     "output_type": "execute_result"
    }
   ],
   "source": [
    "#3(iii)\n",
    "arr.ndim"
   ]
  },
  {
   "cell_type": "markdown",
   "id": "59cae99d-35d2-4373-b186-226a543d4be9",
   "metadata": {},
   "source": [
    "4.first row of the following array"
   ]
  },
  {
   "cell_type": "code",
   "execution_count": 75,
   "id": "19cb7e7d-2702-4b70-80e6-7cf649d86197",
   "metadata": {},
   "outputs": [
    {
     "data": {
      "text/plain": [
       "array([[1, 2, 3, 4]])"
      ]
     },
     "execution_count": 75,
     "metadata": {},
     "output_type": "execute_result"
    }
   ],
   "source": [
    "arr[0:1]"
   ]
  },
  {
   "cell_type": "markdown",
   "id": "c1dab29d-fc86-4021-be3b-adc3ab2537eb",
   "metadata": {},
   "source": [
    "5.accesing third row fouth column"
   ]
  },
  {
   "cell_type": "code",
   "execution_count": 76,
   "id": "85032c03-4cbf-4f60-8331-d7e8d16e2aeb",
   "metadata": {},
   "outputs": [
    {
     "data": {
      "text/plain": [
       "array([12])"
      ]
     },
     "execution_count": 76,
     "metadata": {},
     "output_type": "execute_result"
    }
   ],
   "source": [
    "arr[[2],[3]]"
   ]
  },
  {
   "cell_type": "markdown",
   "id": "d49520a0-0901-4ff7-9b03-f3ec64237129",
   "metadata": {},
   "source": [
    "6.all odd-indexed elements "
   ]
  },
  {
   "cell_type": "code",
   "execution_count": 89,
   "id": "f47ba69c-507c-49d7-83f8-b52276ceea51",
   "metadata": {},
   "outputs": [
    {
     "data": {
      "text/plain": [
       "array([[ 2,  4],\n",
       "       [ 6,  8],\n",
       "       [10, 12]])"
      ]
     },
     "execution_count": 89,
     "metadata": {},
     "output_type": "execute_result"
    }
   ],
   "source": [
    "a_1=[[1,2,3,4],[5,6,7,8],[9,10,11,12]]\n",
    "arr_1=np.array(a_1)\n",
    "odd=arr_1[0:3,[1,3]]\n",
    "odd"
   ]
  },
  {
   "cell_type": "markdown",
   "id": "453726a1-cacf-4bb0-96ef-9f5acd7e2cd8",
   "metadata": {},
   "source": [
    "7 random 3*3 matrix"
   ]
  },
  {
   "cell_type": "code",
   "execution_count": 80,
   "id": "ddee8e23-947b-4b6f-810c-72935116f694",
   "metadata": {},
   "outputs": [
    {
     "data": {
      "text/plain": [
       "array([[0, 0, 0],\n",
       "       [0, 0, 0],\n",
       "       [0, 0, 0]])"
      ]
     },
     "execution_count": 80,
     "metadata": {},
     "output_type": "execute_result"
    }
   ],
   "source": [
    "import random\n",
    "a=np.random.randint(0,1,size=(3,3))\n",
    "a"
   ]
  },
  {
   "cell_type": "markdown",
   "id": "729cb74b-9ca3-4329-a0f2-58a1ad0c4db2",
   "metadata": {},
   "source": [
    "8. the main difference between both functions is the distribution of the generated random numbers: numpy.random.rand() produces numbers in a uniform distribution [rand] and numpy.random.randn() produces numbers in a normal distribution"
   ]
  },
  {
   "cell_type": "markdown",
   "id": "bb23cf96-35fe-4d71-b42b-60a2a072e9f6",
   "metadata": {},
   "source": [
    "9.increase the dimesnion of the array\n"
   ]
  },
  {
   "cell_type": "code",
   "execution_count": 81,
   "id": "410066a0-fff7-4a22-a87d-e3f2e3756e3f",
   "metadata": {},
   "outputs": [
    {
     "data": {
      "text/plain": [
       "array([[[ 1,  2,  3,  4],\n",
       "        [ 5,  6,  7,  8],\n",
       "        [ 9, 10, 11, 12]]])"
      ]
     },
     "execution_count": 81,
     "metadata": {},
     "output_type": "execute_result"
    }
   ],
   "source": [
    "arr1=np.expand_dims(arr,axis=0)\n",
    "arr1"
   ]
  },
  {
   "cell_type": "markdown",
   "id": "5cabfd49-18dd-4884-8512-3306794889af",
   "metadata": {},
   "source": [
    "10.transpose the matrix"
   ]
  },
  {
   "cell_type": "code",
   "execution_count": 82,
   "id": "5100c14e-f05b-4511-bfa2-2f898447d5a3",
   "metadata": {},
   "outputs": [
    {
     "data": {
      "text/plain": [
       "array([[ 1,  5,  9],\n",
       "       [ 2,  6, 10],\n",
       "       [ 3,  7, 11],\n",
       "       [ 4,  8, 12]])"
      ]
     },
     "execution_count": 82,
     "metadata": {},
     "output_type": "execute_result"
    }
   ],
   "source": [
    "tran_arr=arr.T\n",
    "tran_arr"
   ]
  },
  {
   "cell_type": "markdown",
   "id": "7ed45c8f-520d-41b5-bc61-b2e17ff7a983",
   "metadata": {},
   "source": [
    "11.1.index wise multiplication"
   ]
  },
  {
   "cell_type": "code",
   "execution_count": 58,
   "id": "5942acb0-c267-49dd-bdc2-92a70c917598",
   "metadata": {},
   "outputs": [],
   "source": [
    "a=[[1,2,3,4],\n",
    "    [5,6,7,8],\n",
    "    [9,10,11,12]]\n",
    "b=[[1,2,3,4],\n",
    "    [5,6,7,8],\n",
    "       [9,10,11,12]]\n",
    "mat_a=np.array(a)\n",
    "mat_b=np.array(b)"
   ]
  },
  {
   "cell_type": "code",
   "execution_count": 60,
   "id": "ce62fbc0-bc40-41df-ac34-893388ba7693",
   "metadata": {},
   "outputs": [
    {
     "data": {
      "text/plain": [
       "array([[  1,   4,   9,  16],\n",
       "       [ 25,  36,  49,  64],\n",
       "       [ 81, 100, 121, 144]])"
      ]
     },
     "execution_count": 60,
     "metadata": {},
     "output_type": "execute_result"
    }
   ],
   "source": [
    "mult=mat_a*mat_b\n",
    "mult"
   ]
  },
  {
   "cell_type": "markdown",
   "id": "fc3e254f-e238-4cd9-8834-bb0c9e92a6a1",
   "metadata": {},
   "source": [
    "ii.matrix multiplication"
   ]
  },
  {
   "cell_type": "code",
   "execution_count": 62,
   "id": "516702df-7fb9-4042-84e6-61738a0cbbce",
   "metadata": {},
   "outputs": [
    {
     "data": {
      "text/plain": [
       "array([[ 30,  70, 110],\n",
       "       [ 70, 174, 278],\n",
       "       [110, 278, 446]])"
      ]
     },
     "execution_count": 62,
     "metadata": {},
     "output_type": "execute_result"
    }
   ],
   "source": [
    "mat_b_tr=mat_b.T\n",
    "mat_a@mat_b_tr"
   ]
  },
  {
   "cell_type": "markdown",
   "id": "6a4923a5-df7a-4763-8ea6-146465267aab",
   "metadata": {},
   "source": [
    "iii.matrix addition"
   ]
  },
  {
   "cell_type": "code",
   "execution_count": 63,
   "id": "17eb0669-fbca-472b-9b63-e0692e8ee3bd",
   "metadata": {},
   "outputs": [
    {
     "data": {
      "text/plain": [
       "array([[ 2,  4,  6,  8],\n",
       "       [10, 12, 14, 16],\n",
       "       [18, 20, 22, 24]])"
      ]
     },
     "execution_count": 63,
     "metadata": {},
     "output_type": "execute_result"
    }
   ],
   "source": [
    "mat_a+mat_b"
   ]
  },
  {
   "cell_type": "markdown",
   "id": "9ffc5b3e-0782-400c-af4a-8a445c463895",
   "metadata": {},
   "source": [
    "iv.subraction of mat"
   ]
  },
  {
   "cell_type": "code",
   "execution_count": 64,
   "id": "c5793e55-e2c5-4b6a-ace8-1c0722375250",
   "metadata": {},
   "outputs": [
    {
     "data": {
      "text/plain": [
       "array([[0, 0, 0, 0],\n",
       "       [0, 0, 0, 0],\n",
       "       [0, 0, 0, 0]])"
      ]
     },
     "execution_count": 64,
     "metadata": {},
     "output_type": "execute_result"
    }
   ],
   "source": [
    "mat_b-mat_a"
   ]
  },
  {
   "cell_type": "markdown",
   "id": "56dd1acc-3040-4c48-8448-bdc7f7c5c2ef",
   "metadata": {},
   "source": [
    "v.division matrix\n"
   ]
  },
  {
   "cell_type": "code",
   "execution_count": 65,
   "id": "9f55d428-fbdf-4870-a249-00ca05d8dc1b",
   "metadata": {},
   "outputs": [
    {
     "data": {
      "text/plain": [
       "array([[1., 1., 1., 1.],\n",
       "       [1., 1., 1., 1.],\n",
       "       [1., 1., 1., 1.]])"
      ]
     },
     "execution_count": 65,
     "metadata": {},
     "output_type": "execute_result"
    }
   ],
   "source": [
    "mat_b/mat_a"
   ]
  },
  {
   "cell_type": "markdown",
   "id": "f68aa432-2470-4cb8-9c96-6f402921a8d8",
   "metadata": {},
   "source": [
    "12.\n",
    "byteswap() method swaps the bytes of the array elements. It toggles between low-endian and big-endian data representation by returning a byteswapped array, optionally swapped in-place"
   ]
  },
  {
   "cell_type": "markdown",
   "id": "c0c91c8e-e99e-40fb-96d6-165f520494bc",
   "metadata": {},
   "source": [
    "13.calculate the inverse of a matrix."
   ]
  },
  {
   "cell_type": "markdown",
   "id": "99feda3b-3667-46ee-9afb-2d7b8462069a",
   "metadata": {},
   "source": [
    "14.enables you to change the shape of an array into another compatible shape.\n",
    "np.reshape()"
   ]
  },
  {
   "cell_type": "markdown",
   "id": "1f51e78e-ff8f-4b8d-83eb-dcdea76e3a74",
   "metadata": {},
   "source": [
    "15.how NumPy treats arrays with different shapes during arithmetic operations"
   ]
  },
  {
   "cell_type": "code",
   "execution_count": null,
   "id": "d9792a57-8986-4f30-9168-51f8ace79dc9",
   "metadata": {},
   "outputs": [],
   "source": []
  }
 ],
 "metadata": {
  "kernelspec": {
   "display_name": "Python 3 (ipykernel)",
   "language": "python",
   "name": "python3"
  },
  "language_info": {
   "codemirror_mode": {
    "name": "ipython",
    "version": 3
   },
   "file_extension": ".py",
   "mimetype": "text/x-python",
   "name": "python",
   "nbconvert_exporter": "python",
   "pygments_lexer": "ipython3",
   "version": "3.10.8"
  }
 },
 "nbformat": 4,
 "nbformat_minor": 5
}
